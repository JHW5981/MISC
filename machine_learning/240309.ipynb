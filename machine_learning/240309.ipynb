{
 "cells": [
  {
   "cell_type": "markdown",
   "metadata": {},
   "source": [
    "<font size=4>题目1：设想你是某门课程的教师，想通过学生平时和期末两次的评定成绩，来决定他们是否通过这门课程。现在你拥有之前学生的可以用于训练的样本集[data-1.txt](https://oc.sjtu.edu.cn/courses/66441/files/8598130?wrap=1) 。对于每一个训练样本，你有他们平时和期末评分及最后是通过课程的结果（1为通过，0为不通过）。请利用逻辑回归或支撑向量机方法建立分类器。</font>"
   ]
  },
  {
   "cell_type": "code",
   "execution_count": 19,
   "metadata": {},
   "outputs": [
    {
     "data": {
      "text/html": [
       "<div>\n",
       "<style scoped>\n",
       "    .dataframe tbody tr th:only-of-type {\n",
       "        vertical-align: middle;\n",
       "    }\n",
       "\n",
       "    .dataframe tbody tr th {\n",
       "        vertical-align: top;\n",
       "    }\n",
       "\n",
       "    .dataframe thead th {\n",
       "        text-align: right;\n",
       "    }\n",
       "</style>\n",
       "<table border=\"1\" class=\"dataframe\">\n",
       "  <thead>\n",
       "    <tr style=\"text-align: right;\">\n",
       "      <th></th>\n",
       "      <th>x1</th>\n",
       "      <th>x2</th>\n",
       "      <th>y</th>\n",
       "    </tr>\n",
       "  </thead>\n",
       "  <tbody>\n",
       "    <tr>\n",
       "      <th>count</th>\n",
       "      <td>100.000000</td>\n",
       "      <td>100.000000</td>\n",
       "      <td>100.000000</td>\n",
       "    </tr>\n",
       "    <tr>\n",
       "      <th>mean</th>\n",
       "      <td>65.644274</td>\n",
       "      <td>66.221998</td>\n",
       "      <td>0.600000</td>\n",
       "    </tr>\n",
       "    <tr>\n",
       "      <th>std</th>\n",
       "      <td>19.458222</td>\n",
       "      <td>18.582783</td>\n",
       "      <td>0.492366</td>\n",
       "    </tr>\n",
       "    <tr>\n",
       "      <th>min</th>\n",
       "      <td>30.058822</td>\n",
       "      <td>30.603263</td>\n",
       "      <td>0.000000</td>\n",
       "    </tr>\n",
       "    <tr>\n",
       "      <th>25%</th>\n",
       "      <td>50.919511</td>\n",
       "      <td>48.179205</td>\n",
       "      <td>0.000000</td>\n",
       "    </tr>\n",
       "    <tr>\n",
       "      <th>50%</th>\n",
       "      <td>67.032988</td>\n",
       "      <td>67.682381</td>\n",
       "      <td>1.000000</td>\n",
       "    </tr>\n",
       "    <tr>\n",
       "      <th>75%</th>\n",
       "      <td>80.212529</td>\n",
       "      <td>79.360605</td>\n",
       "      <td>1.000000</td>\n",
       "    </tr>\n",
       "    <tr>\n",
       "      <th>max</th>\n",
       "      <td>99.827858</td>\n",
       "      <td>98.869436</td>\n",
       "      <td>1.000000</td>\n",
       "    </tr>\n",
       "  </tbody>\n",
       "</table>\n",
       "</div>"
      ],
      "text/plain": [
       "               x1          x2           y\n",
       "count  100.000000  100.000000  100.000000\n",
       "mean    65.644274   66.221998    0.600000\n",
       "std     19.458222   18.582783    0.492366\n",
       "min     30.058822   30.603263    0.000000\n",
       "25%     50.919511   48.179205    0.000000\n",
       "50%     67.032988   67.682381    1.000000\n",
       "75%     80.212529   79.360605    1.000000\n",
       "max     99.827858   98.869436    1.000000"
      ]
     },
     "execution_count": 19,
     "metadata": {},
     "output_type": "execute_result"
    }
   ],
   "source": [
    "import requests\n",
    "import http.cookiejar as cookielib\n",
    "import urllib3\n",
    "import pandas as pd\n",
    "import os\n",
    "\n",
    "# close undesirable warnings\n",
    "urllib3.disable_warnings()\n",
    "\n",
    "def request_data():\n",
    "    userAgent  = \"Mozilla/5.0 (Windows NT 10.0; Win64; x64) AppleWebKit/537.36 (KHTML, like Gecko) Chrome/122.0.0.0 Safari/537.36\"\n",
    "    cookies = \"_ga=GA1.3.612926324.1703474509; oc.sjtu.edu.cn=22632.57540.21071.0000; _gid=GA1.3.251492791.1709964939; _ga_QP6YR9D8CK=GS1.3.1709964940.3.0.1709964940.0.0.0; log_session_id=071b4507d9329edaf60cb29f80ec15cd; _legacy_normandy_session=f7BdnpGPmrgs5CJu3mCMOw+BFxPhjutwGI__T5nywh6EdUgrl8Cvfi3BFpbgbtHHtPCJNk7DPybRXwWqb2BtL5DsF6yvTZNFfU1EYSZU0Xj_OSQPWdO5hJIKUoz-M1dYIzqu4mNA85pcTG93eiVyMbxyTBM0YWrzw8jACvK-JRC1h2woQHksGlbHsJotRXygVdM6olkR4EBTmE5RH7pPGFV84MAMHZHQZpETJwwh1srvNC8fozkhyWQdbHu9gGaYPXN5s-V8YVHb8L-R7KZPbGTlkDMKICKj81V8GvCP0LxaZlmzA3NY_o1RbMCyT-tOZt-JK1nowwRqOhPH6BVLSinQuDoLYzrz21h6cGY5uGhUOKjulBJPxwoT6Jd44soH7KlZ9lxYTMVhPpuSKv_hk6SH6fCoXau8cCPwK6rGCIOgj8symgaGiP_QowwmA-yxRbyhIz3TxwAKp_MPWsLJNQfqFIpyfwji9pPUhuZvoUHS9-z-i_TSyeFelZSJV0xJeAdqM6Tg6LeOpIGZa9uHp7kJ6T-XQh4X7VaX_03zlrsSlGWYRJ_PHtDGiFcQe91UqFYtMlyJHSvYlYnaKwlruGL.vf5tibadhVXakYfERkrgpotadD0.ZewMrA; _normandy_session=f7BdnpGPmrgs5CJu3mCMOw+BFxPhjutwGI__T5nywh6EdUgrl8Cvfi3BFpbgbtHHtPCJNk7DPybRXwWqb2BtL5DsF6yvTZNFfU1EYSZU0Xj_OSQPWdO5hJIKUoz-M1dYIzqu4mNA85pcTG93eiVyMbxyTBM0YWrzw8jACvK-JRC1h2woQHksGlbHsJotRXygVdM6olkR4EBTmE5RH7pPGFV84MAMHZHQZpETJwwh1srvNC8fozkhyWQdbHu9gGaYPXN5s-V8YVHb8L-R7KZPbGTlkDMKICKj81V8GvCP0LxaZlmzA3NY_o1RbMCyT-tOZt-JK1nowwRqOhPH6BVLSinQuDoLYzrz21h6cGY5uGhUOKjulBJPxwoT6Jd44soH7KlZ9lxYTMVhPpuSKv_hk6SH6fCoXau8cCPwK6rGCIOgj8symgaGiP_QowwmA-yxRbyhIz3TxwAKp_MPWsLJNQfqFIpyfwji9pPUhuZvoUHS9-z-i_TSyeFelZSJV0xJeAdqM6Tg6LeOpIGZa9uHp7kJ6T-XQh4X7VaX_03zlrsSlGWYRJ_PHtDGiFcQe91UqFYtMlyJHSvYlYnaKwlruGL.vf5tibadhVXakYfERkrgpotadD0.ZewMrA; _csrf_token=XFyB%2FJT7jweN64DOo7%2FkMogQrqgLh1Y6pjvhA4KD%2BQURPbXO26PMMeKf77aV%2BKgC3iLr0TnfOVPOco1TyOutcw%3D%3D\"\n",
    "    header = {\n",
    "        \"Referer\": \"https://oc.sjtu.edu.cn/courses/66441/files\",\n",
    "        'User-Agent': userAgent,\n",
    "        \"Cookie\": cookies,\n",
    "    }\n",
    "    # session代表某一次连接\n",
    "    s = requests.session()\n",
    "    url = 'https://oc.sjtu.edu.cn/courses/66441/files/8598130/download?download_frd=1'\n",
    "    response = s.get(url, headers = header)\n",
    "    if response.status_code == 200:\n",
    "        print(\"Gat data!\")\n",
    "        with open(\"./data1.csv\", \"wb\") as f:\n",
    "            f.write(response.content)\n",
    "        return True\n",
    "    else:\n",
    "        print(\"Data not found!\")\n",
    "        return False\n",
    "\n",
    "if not os.path.isfile(\"./data1.csv\"):\n",
    "    print(\"Data not prepared! Preparing data...\")\n",
    "    if not request_data():\n",
    "        raise RuntimeError(\"Data not prepared!\")\n",
    "    print(\"OK!\")\n",
    "\n",
    "df = pd.read_csv(\"./data1.csv\", header=None)\n",
    "df.columns = [\"x1\", \"x2\", \"y\"]\n",
    "df.describe(include='all')"
   ]
  },
  {
   "cell_type": "markdown",
   "metadata": {},
   "source": [
    "<font size=4>画出箱线图，观察是否有outliers。</font>"
   ]
  },
  {
   "cell_type": "code",
   "execution_count": 20,
   "metadata": {},
   "outputs": [
    {
     "data": {
      "image/png": "[encoded data removed]",
      "text/plain": [
       "<Figure size 432x288 with 3 Axes>"
      ]
     },
     "metadata": {},
     "output_type": "display_data"
    }
   ],
   "source": [
    "import seaborn as sns\n",
    "import matplotlib.pyplot as plt\n",
    "\n",
    "fig, axs = plt.subplots(ncols=3, nrows=1)\n",
    "index = 0\n",
    "axs = axs.flatten()\n",
    "for k,v in df.items():\n",
    "    sns.boxplot(y=k, data=df, ax=axs[index])\n",
    "    index += 1\n",
    "plt.tight_layout(pad=0.4, w_pad=0.5, h_pad=5.0)"
   ]
  },
  {
   "cell_type": "markdown",
   "metadata": {},
   "source": [
    "<font size=4>检查是否有多重共线性。</font>"
   ]
  },
  {
   "cell_type": "code",
   "execution_count": 21,
   "metadata": {},
   "outputs": [
    {
     "data": {
      "image/png": "[encoded data removed]",
      "text/plain": [
       "<Figure size 432x288 with 2 Axes>"
      ]
     },
     "metadata": {},
     "output_type": "display_data"
    }
   ],
   "source": [
    "corrMatrix = df.corr()\n",
    "\n",
    "# keep only high correlated items\n",
    "highCorr = corrMatrix[corrMatrix >= .8]\n",
    "\n",
    "# plot\n",
    "sns.heatmap(highCorr, annot=True, cmap=\"Greens\")\n",
    "plt.show()"
   ]
  },
  {
   "cell_type": "code",
   "execution_count": 54,
   "metadata": {},
   "outputs": [],
   "source": [
    "from sklearn.model_selection import train_test_split\n",
    "from sklearn.linear_model import LogisticRegression\n",
    "\n",
    "Y = df['y']\n",
    "X = df.drop(['y'], axis=1)\n",
    "X_train, X_test, Y_train, Y_test = train_test_split(X, Y, test_size=0.3, random_state=1)\n",
    "\n",
    "logreg_model = LogisticRegression(max_iter=1000, tol=1e-6)\n",
    "trained_model = logreg_model.fit(X_train, Y_train)"
   ]
  }
 ],
 "metadata": {
  "kernelspec": {
   "display_name": "base",
   "language": "python",
   "name": "python3"
  },
  "language_info": {
   "codemirror_mode": {
    "name": "ipython",
    "version": 3
   },
   "file_extension": ".py",
   "mimetype": "text/x-python",
   "name": "python",
   "nbconvert_exporter": "python",
   "pygments_lexer": "ipython3",
   "version": "3.9.12"
  }
 },
 "nbformat": 4,
 "nbformat_minor": 2
}
